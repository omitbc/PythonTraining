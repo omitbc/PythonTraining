{
  "nbformat": 4,
  "nbformat_minor": 0,
  "metadata": {
    "colab": {
      "provenance": []
    },
    "kernelspec": {
      "name": "python3",
      "display_name": "Python 3"
    },
    "language_info": {
      "name": "python"
    }
  },
  "cells": [
    {
      "cell_type": "markdown",
      "source": [
        "# Dictionary"
      ],
      "metadata": {
        "id": "GfDNue_tPHdD"
      }
    },
    {
      "cell_type": "code",
      "source": [
        "student_1 = {\n",
        "    \"name\": \"shyam\",\n",
        "    'age': 22,\n",
        "    'level': \"Bachelor\"\n",
        "    }\n",
        "# type(student_1)\n",
        "student_1['name']='ram'\n",
        "print(student_1)"
      ],
      "metadata": {
        "colab": {
          "base_uri": "https://localhost:8080/"
        },
        "id": "hcbZV-GMA5W1",
        "outputId": "5a7d7b78-a1a1-4d24-aea8-a5cf8df85faf"
      },
      "execution_count": 10,
      "outputs": [
        {
          "output_type": "stream",
          "name": "stdout",
          "text": [
            "{'name': 'ram', 'age': 22, 'level': 'Bachelor'}\n"
          ]
        }
      ]
    },
    {
      "cell_type": "code",
      "source": [
        "def fun(selectedData):\n",
        "  selectedData['name']='newVal'\n",
        "  print(\"Selected Data: \",selectedData)\n",
        "\n",
        "student=[\n",
        "    {\n",
        "        'id':1,\n",
        "        'name':'xyz'\n",
        "    },\n",
        "    {\n",
        "        'id':2,\n",
        "        'name':'pqr'\n",
        "    },\n",
        "    {\n",
        "        'id':3,\n",
        "        'name':'ram'\n",
        "    },\n",
        "    {\n",
        "        'id':4,\n",
        "        'name':'hari'\n",
        "    }\n",
        "]\n",
        "selectedData=student[2]\n",
        "fun(selectedData)\n",
        "print(\"Student: \",student)\n"
      ],
      "metadata": {
        "colab": {
          "base_uri": "https://localhost:8080/"
        },
        "id": "Od1kpIjDf82j",
        "outputId": "a4cf2ae9-9050-402f-a751-de4854581a24"
      },
      "execution_count": 23,
      "outputs": [
        {
          "output_type": "stream",
          "name": "stdout",
          "text": [
            "Selected Data:  {'id': 3, 'name': 'newVal'}\n",
            "Student:  [{'id': 1, 'name': 'xyz'}, {'id': 2, 'name': 'pqr'}, {'id': 3, 'name': 'newVal'}, {'id': 4, 'name': 'hari'}]\n"
          ]
        }
      ]
    },
    {
      "cell_type": "code",
      "source": [
        "student=dict()\n",
        "print(type(student))"
      ],
      "metadata": {
        "id": "J_6hQKp0K4CK",
        "outputId": "1b1fa6f8-ce32-42b6-9a94-9d13ae6d426f",
        "colab": {
          "base_uri": "https://localhost:8080/"
        }
      },
      "execution_count": null,
      "outputs": [
        {
          "output_type": "stream",
          "name": "stdout",
          "text": [
            "<class 'dict'>\n"
          ]
        }
      ]
    },
    {
      "cell_type": "code",
      "source": [
        "d={}\n",
        "print(type(d))"
      ],
      "metadata": {
        "colab": {
          "base_uri": "https://localhost:8080/"
        },
        "id": "7flTEq6ueWYN",
        "outputId": "41f50044-271f-4bae-f9ae-4fc9f7a3b686"
      },
      "execution_count": 2,
      "outputs": [
        {
          "output_type": "stream",
          "name": "stdout",
          "text": [
            "<class 'dict'>\n"
          ]
        }
      ]
    },
    {
      "cell_type": "markdown",
      "source": [
        "# Exercises\n",
        "1. Create a dictionary with keys and values of different data types.\n",
        "2. Access keys of the dictionary.\n",
        "3. Access values of the dictionary.\n",
        "4. Access items of the dictionary.\n",
        "5. add two new key value pair in the dictionary created above.\n",
        "6. Create an empty dictionary and add new key value pair."
      ],
      "metadata": {
        "id": "nw2ecGn-js5y"
      }
    },
    {
      "cell_type": "markdown",
      "source": [
        "This is the dictionary in python. Dictionary has key and value pair. Each key is connected to a value, and you can use a key to access a value associated with that key. You can have an unlimited number of key-value pairs in a dictionary.\n",
        "\n",
        "- Dictionary store data in **key** : **value** pairs in a single variable.\n",
        "\n",
        "- Collection of items which is ordered, changeable and donot allow dublicates.\n",
        "\n",
        "Let's print the dictionary we created above."
      ],
      "metadata": {
        "id": "r2r-L1YUA5zv"
      }
    },
    {
      "cell_type": "code",
      "source": [],
      "metadata": {
        "id": "0ehRL-8rKd6c"
      },
      "execution_count": null,
      "outputs": []
    },
    {
      "cell_type": "code",
      "source": [],
      "metadata": {
        "id": "VJ0yJxTTKgOv"
      },
      "execution_count": null,
      "outputs": []
    },
    {
      "cell_type": "code",
      "source": [],
      "metadata": {
        "id": "7BEsKc8QKhnd"
      },
      "execution_count": null,
      "outputs": []
    },
    {
      "cell_type": "code",
      "source": [
        "print(student_1)"
      ],
      "metadata": {
        "colab": {
          "base_uri": "https://localhost:8080/"
        },
        "id": "MbfSLHsuCCeT",
        "outputId": "6b9160b4-d92c-4d93-b5a8-45de5b60443a"
      },
      "execution_count": null,
      "outputs": [
        {
          "output_type": "stream",
          "name": "stdout",
          "text": [
            "{'name': 'Ram', 'age': 22, 'level': 'Bachelor'}\n"
          ]
        }
      ]
    },
    {
      "cell_type": "markdown",
      "source": [
        "- The values in dictionary items can be of any data type:"
      ],
      "metadata": {
        "id": "aHYoKxe8O1ht"
      }
    },
    {
      "cell_type": "code",
      "source": [
        "vehicles_info = {\n",
        "  \"vehicle\": \"Car\",\n",
        "  \"electric\": False,\n",
        "  \"year\": 1964,\n",
        "  \"colors\": [\"red\", \"white\", \"blue\"]\n",
        "}\n",
        "print(type(vehicles_info))"
      ],
      "metadata": {
        "colab": {
          "base_uri": "https://localhost:8080/"
        },
        "id": "A6eijvu5O3ky",
        "outputId": "02600cd9-aa45-40c7-c69c-09da4052404e"
      },
      "execution_count": null,
      "outputs": [
        {
          "output_type": "stream",
          "name": "stdout",
          "text": [
            "<class 'dict'>\n"
          ]
        }
      ]
    },
    {
      "cell_type": "markdown",
      "source": [
        "### Accesing the items\n",
        "\n",
        "- use key name to access the items."
      ],
      "metadata": {
        "id": "xTTSML0_DG9t"
      }
    },
    {
      "cell_type": "code",
      "source": [
        "student_1 = { \"name\": \"ram\", 'age': 22, 'level': \"Bachelor\"}\n",
        "print(student_1)"
      ],
      "metadata": {
        "colab": {
          "base_uri": "https://localhost:8080/"
        },
        "id": "ILnZxFuECE4M",
        "outputId": "4ec29334-ff6a-4d09-8a76-272362206c37"
      },
      "execution_count": null,
      "outputs": [
        {
          "output_type": "stream",
          "name": "stdout",
          "text": [
            "{'name': 'ram', 'age': 22, 'level': 'Bachelor'}\n"
          ]
        }
      ]
    },
    {
      "cell_type": "code",
      "source": [
        "# student_1[\"name\"]\n",
        "x= student_1.get('Name', 'not found')\n",
        "if x!='not found':\n",
        "  print(x)\n"
      ],
      "metadata": {
        "id": "hZqdBxTvDajZ"
      },
      "execution_count": null,
      "outputs": []
    },
    {
      "cell_type": "code",
      "source": [
        "student_1.get(\"name\")"
      ],
      "metadata": {
        "colab": {
          "base_uri": "https://localhost:8080/",
          "height": 37
        },
        "id": "1VzuW0s-DeW6",
        "outputId": "aa3217bb-04c8-4b11-a3cd-5076c311aafd"
      },
      "execution_count": null,
      "outputs": [
        {
          "output_type": "execute_result",
          "data": {
            "text/plain": [
              "'Ram'"
            ],
            "application/vnd.google.colaboratory.intrinsic+json": {
              "type": "string"
            }
          },
          "metadata": {},
          "execution_count": 6
        }
      ]
    },
    {
      "cell_type": "markdown",
      "source": [
        "- keys() - return a list of all keys in a dictionary.\n"
      ],
      "metadata": {
        "id": "_VI9Y0bBHaNY"
      }
    },
    {
      "cell_type": "code",
      "source": [
        "# Return keys in the dictionary\n",
        "student_1.keys()"
      ],
      "metadata": {
        "colab": {
          "base_uri": "https://localhost:8080/"
        },
        "id": "xTq0MLiKDkCd",
        "outputId": "0ab50b10-b64e-4690-a75a-d7d106f255fb"
      },
      "execution_count": null,
      "outputs": [
        {
          "output_type": "execute_result",
          "data": {
            "text/plain": [
              "dict_keys(['name', 'age', 'level'])"
            ]
          },
          "metadata": {},
          "execution_count": 7
        }
      ]
    },
    {
      "cell_type": "markdown",
      "source": [
        "- values() - return a list of all the values in the dictionary."
      ],
      "metadata": {
        "id": "DlV93R8NHlmm"
      }
    },
    {
      "cell_type": "code",
      "source": [
        "student_1.values()"
      ],
      "metadata": {
        "colab": {
          "base_uri": "https://localhost:8080/"
        },
        "id": "zjDZVu0YHTl_",
        "outputId": "3c95c76f-7f06-4907-c590-a88bb9005999"
      },
      "execution_count": null,
      "outputs": [
        {
          "output_type": "execute_result",
          "data": {
            "text/plain": [
              "dict_values(['Ram', 22, 'Bachelor'])"
            ]
          },
          "metadata": {},
          "execution_count": 8
        }
      ]
    },
    {
      "cell_type": "markdown",
      "source": [
        "- items() - return each item in a dictionary.\n",
        "\n"
      ],
      "metadata": {
        "id": "x01QiWPyH1pm"
      }
    },
    {
      "cell_type": "code",
      "source": [
        "student_1.items()"
      ],
      "metadata": {
        "colab": {
          "base_uri": "https://localhost:8080/"
        },
        "id": "pcLzgafdHxa5",
        "outputId": "aca6a9cd-1b10-4469-92c5-4b387b0c8faf"
      },
      "execution_count": null,
      "outputs": [
        {
          "output_type": "execute_result",
          "data": {
            "text/plain": [
              "dict_items([('name', 'Ram'), ('age', 22), ('level', 'Bachelor')])"
            ]
          },
          "metadata": {},
          "execution_count": 9
        }
      ]
    },
    {
      "cell_type": "code",
      "source": [
        "d={1:'one',2:'two',3:'three'}\n",
        "print(d.items())\n",
        "for k,v in [(1, 'one'), (2, 'two'), (3, 'three')]:\n",
        "  print(f\"{k}=>{v}\")"
      ],
      "metadata": {
        "id": "u0UzfAXpOrv4",
        "outputId": "d1b73cab-f114-4754-80fe-d9147ceace88",
        "colab": {
          "base_uri": "https://localhost:8080/"
        }
      },
      "execution_count": null,
      "outputs": [
        {
          "output_type": "stream",
          "name": "stdout",
          "text": [
            "dict_items([(1, 'one'), (2, 'two'), (3, 'three')])\n",
            "1=>one\n",
            "2=>two\n",
            "3=>three\n"
          ]
        }
      ]
    },
    {
      "cell_type": "code",
      "source": [
        "l=['a','b','c']\n",
        "print(list(enumerate(l)))"
      ],
      "metadata": {
        "id": "ugi3hXyYP1mj",
        "outputId": "05d68aba-eef8-4c44-dbd6-b47f3c33b2bb",
        "colab": {
          "base_uri": "https://localhost:8080/"
        }
      },
      "execution_count": null,
      "outputs": [
        {
          "output_type": "stream",
          "name": "stdout",
          "text": [
            "[(0, 'a'), (1, 'b'), (2, 'c')]\n"
          ]
        }
      ]
    },
    {
      "cell_type": "markdown",
      "source": [
        "**Key Value Pairs in Dictionary**\n",
        "\n",
        "Dictionaries are dynamic structures, and you can add new key-value pairs to a dictionary at any time.\n",
        "\n",
        "For example, to add a new key-value pair, you would give the name of the dictionary followed by the new key in square brackets along with the new value.\n",
        "\n"
      ],
      "metadata": {
        "id": "Qul8a0OTIvtM"
      }
    },
    {
      "cell_type": "code",
      "source": [
        "# Add new key-value pair\n",
        "student_1 = { \"name\": \"ram\", 'age': 22, 'level': \"Bachelor\"}\n",
        "student_1['section'] = 'A'\n",
        "student_1['position'] = 10\n",
        "print(student_1)"
      ],
      "metadata": {
        "colab": {
          "base_uri": "https://localhost:8080/"
        },
        "id": "j-aBvgtWH_4b",
        "outputId": "043afeae-fd92-4e9b-e4f9-c37ad1ab0c9d"
      },
      "execution_count": null,
      "outputs": [
        {
          "output_type": "stream",
          "name": "stdout",
          "text": [
            "{'name': 'ram', 'age': 22, 'level': 'Bachelor', 'section': 'A', 'position': 10}\n"
          ]
        }
      ]
    },
    {
      "cell_type": "markdown",
      "source": [
        "Let's create a empty dictionary"
      ],
      "metadata": {
        "id": "dq87_6k9JoXs"
      }
    },
    {
      "cell_type": "code",
      "source": [
        "#We create an empty dictionary and view the type\n",
        "student_2 = {}\n",
        "type(student_2)"
      ],
      "metadata": {
        "colab": {
          "base_uri": "https://localhost:8080/"
        },
        "id": "O0FO1EQuJWeW",
        "outputId": "36503422-b11a-4985-fb42-dcd60961fd9c"
      },
      "execution_count": null,
      "outputs": [
        {
          "output_type": "execute_result",
          "data": {
            "text/plain": [
              "dict"
            ]
          },
          "metadata": {},
          "execution_count": 11
        }
      ]
    },
    {
      "cell_type": "code",
      "source": [
        "#Adding value to the dictionary\n",
        "student_2['name'] = 'Shyam'\n",
        "student_2['age'] = 2\n",
        "student_2['level'] = 'Bachelor'"
      ],
      "metadata": {
        "id": "-5hqOXZoJtD9"
      },
      "execution_count": null,
      "outputs": []
    },
    {
      "cell_type": "code",
      "source": [
        "#Printing the student_2\n",
        "print(student_2)"
      ],
      "metadata": {
        "colab": {
          "base_uri": "https://localhost:8080/"
        },
        "id": "c9Fi9zSNJyQ-",
        "outputId": "3e995060-363f-47f4-8a1e-f30b9f909b3c"
      },
      "execution_count": null,
      "outputs": [
        {
          "output_type": "stream",
          "name": "stdout",
          "text": [
            "{'name': 'Shyam', 'age': 2, 'level': 'Bachelor'}\n"
          ]
        }
      ]
    },
    {
      "cell_type": "markdown",
      "source": [
        "We can also modify the content of the dictionary."
      ],
      "metadata": {
        "id": "NrmJgfFQKkLG"
      }
    },
    {
      "cell_type": "code",
      "source": [
        "#Assigning the new value to the student info\n",
        "student_2['age'] = 23\n",
        "\n",
        "print(student_2)"
      ],
      "metadata": {
        "colab": {
          "base_uri": "https://localhost:8080/"
        },
        "id": "YK-89HMHJ1cd",
        "outputId": "66d2ddb5-9679-4c65-fa99-0ed18b5bacdc"
      },
      "execution_count": null,
      "outputs": [
        {
          "output_type": "stream",
          "name": "stdout",
          "text": [
            "{'name': 'Shyam', 'age': 23, 'level': 'Bachelor'}\n"
          ]
        }
      ]
    },
    {
      "cell_type": "markdown",
      "source": [
        "### Update dictionary\n",
        "- update() method will update items in the dictionary."
      ],
      "metadata": {
        "id": "uPIkfDG0RD0o"
      }
    },
    {
      "cell_type": "code",
      "source": [
        "student_1.update({\"age\" : 34})\n",
        "student_1[\"age\"]=18\n",
        "print(student_1)"
      ],
      "metadata": {
        "colab": {
          "base_uri": "https://localhost:8080/"
        },
        "id": "T1M8uMhgSu5B",
        "outputId": "4d0d7181-2882-41d7-d411-8893b10f5c4c"
      },
      "execution_count": null,
      "outputs": [
        {
          "output_type": "stream",
          "name": "stdout",
          "text": [
            "{'name': 'ram', 'age': 18, 'level': 'Bachelor', 'section': 'A', 'position': 10}\n"
          ]
        }
      ]
    },
    {
      "cell_type": "markdown",
      "source": [
        "### Remove items\n",
        "- remove() funtion to remove items from the dictionary.\n"
      ],
      "metadata": {
        "id": "2iDiui22S_nO"
      }
    },
    {
      "cell_type": "code",
      "source": [
        "student_1 = {'name': \"Ram\", 'age': 22, 'level': \"Bachelor\"}\n",
        "student_1.pop(\"name\")\n",
        "print(student_1)"
      ],
      "metadata": {
        "colab": {
          "base_uri": "https://localhost:8080/"
        },
        "id": "6y6VX2vuVqb_",
        "outputId": "6e99aa7f-3790-47d1-fec5-d736ce4b0a59"
      },
      "execution_count": null,
      "outputs": [
        {
          "output_type": "stream",
          "name": "stdout",
          "text": [
            "{'age': 22, 'level': 'Bachelor'}\n"
          ]
        }
      ]
    },
    {
      "cell_type": "markdown",
      "source": [
        "- popitem() removes the last inserted item in the dictionary."
      ],
      "metadata": {
        "id": "_BPDUr4-WEfE"
      }
    },
    {
      "cell_type": "code",
      "source": [
        "student_1 = {'name': \"Ram\", 'age': 22, 'level': \"Bachelor\"}\n",
        "# student_1['a']=1\n",
        "# print(student_1)\n",
        "student_1.popitem()\n",
        "print(student_1)"
      ],
      "metadata": {
        "colab": {
          "base_uri": "https://localhost:8080/"
        },
        "id": "_SjxvypdWC_h",
        "outputId": "b9df0be6-59a4-4303-a8fd-6bdb4dc4fd6b"
      },
      "execution_count": null,
      "outputs": [
        {
          "output_type": "stream",
          "name": "stdout",
          "text": [
            "{'name': 'Ram', 'age': 22}\n"
          ]
        }
      ]
    },
    {
      "cell_type": "markdown",
      "source": [
        "### Remove items using del keyword"
      ],
      "metadata": {
        "id": "z9x0W-NwXmLT"
      }
    },
    {
      "cell_type": "code",
      "source": [
        "del student_1[\"name\"]"
      ],
      "metadata": {
        "colab": {
          "base_uri": "https://localhost:8080/",
          "height": 164
        },
        "id": "BYTic7sAXrXX",
        "outputId": "2be91cd2-f565-4071-ba24-fba45b899751"
      },
      "execution_count": null,
      "outputs": [
        {
          "output_type": "error",
          "ename": "KeyError",
          "evalue": "ignored",
          "traceback": [
            "\u001b[0;31m---------------------------------------------------------------------------\u001b[0m",
            "\u001b[0;31mKeyError\u001b[0m                                  Traceback (most recent call last)",
            "\u001b[0;32m<ipython-input-18-7b6d5f99daa4>\u001b[0m in \u001b[0;36m<module>\u001b[0;34m\u001b[0m\n\u001b[0;32m----> 1\u001b[0;31m \u001b[0;32mdel\u001b[0m \u001b[0mstudent_1\u001b[0m\u001b[0;34m[\u001b[0m\u001b[0;34m\"name\"\u001b[0m\u001b[0;34m]\u001b[0m\u001b[0;34m\u001b[0m\u001b[0;34m\u001b[0m\u001b[0m\n\u001b[0m",
            "\u001b[0;31mKeyError\u001b[0m: 'name'"
          ]
        }
      ]
    },
    {
      "cell_type": "markdown",
      "source": [
        "# Looping Through keys and Values in Dictionary\n",
        "\n",
        "A dictionary always maintains a clear connection between each key and\n",
        "its associated value, but you never get the items from a dictionary in any\n",
        "predictable order."
      ],
      "metadata": {
        "id": "CjPf882LK0zH"
      }
    },
    {
      "cell_type": "code",
      "source": [
        "student_1 = {\"name\": \"Ram\", 'age': 22, 'level': \"Bachelor\"}\n",
        "del student_1\n",
        "# type(student_1)"
      ],
      "metadata": {
        "id": "aOMShZpoXLyI"
      },
      "execution_count": null,
      "outputs": []
    },
    {
      "cell_type": "code",
      "source": [
        "#Looping through keys\n",
        "for name in student_1.keys():\n",
        "  print(name)"
      ],
      "metadata": {
        "id": "EI4YulBwKuoP"
      },
      "execution_count": null,
      "outputs": []
    },
    {
      "cell_type": "code",
      "source": [
        "#Looping through values\n",
        "for l in student_1.values():\n",
        "  print(l)"
      ],
      "metadata": {
        "id": "djyeRQ1kK3eT"
      },
      "execution_count": null,
      "outputs": []
    },
    {
      "cell_type": "markdown",
      "source": [
        "### Copy dictionary\n",
        "- copy() method is used to copy the dictionary."
      ],
      "metadata": {
        "id": "gT7Ms-y5X_R6"
      }
    },
    {
      "cell_type": "code",
      "source": [
        "mydict = student_1.copy()\n",
        "print(mydict)"
      ],
      "metadata": {
        "id": "GmHtzLW-X-nP"
      },
      "execution_count": null,
      "outputs": []
    },
    {
      "cell_type": "markdown",
      "source": [
        "#Nesting of dictionary\n",
        "\n",
        "You can nest a set of dictionaries inside a list, a list of items inside a dictionary, or even a dictionary inside another dictionary.\n",
        "\n",
        "**1. Dicitionary in the list**\n",
        "\n",
        "We can create a list of dictionary in python."
      ],
      "metadata": {
        "id": "hXntB0VCK_DS"
      }
    },
    {
      "cell_type": "code",
      "source": [
        "alien_0 = {'color': 'green', 'points': 5}\n",
        "alien_1 = {'color': 'yellow', 'points': 10}\n",
        "alien_2 = {'color': 'red', 'points': 15}\n",
        "\n",
        "# Creating the list of aliens\n",
        "aliens = [alien_0, alien_1, alien_2]\n",
        "print(aliens)"
      ],
      "metadata": {
        "colab": {
          "base_uri": "https://localhost:8080/"
        },
        "id": "ku2o8otDK6WM",
        "outputId": "e54d0cef-88aa-4feb-bb77-19c4d2c72652"
      },
      "execution_count": null,
      "outputs": [
        {
          "output_type": "stream",
          "name": "stdout",
          "text": [
            "[{'color': 'green', 'points': 5}, {'color': 'yellow', 'points': 10}, {'color': 'red', 'points': 15}]\n"
          ]
        }
      ]
    },
    {
      "cell_type": "markdown",
      "source": [
        "2. **List inside a dictionary**\n",
        "\n",
        "We can create a list of items inside a dictionary.\n"
      ],
      "metadata": {
        "id": "fW7NoUXJaR1R"
      }
    },
    {
      "cell_type": "code",
      "source": [
        "fav_languages = {\n",
        "     'Karishma': ['python']\n",
        "    ,'Bijay': ['Java']\n",
        "    ,'Manoj': 'R'\n",
        "    ,'Upendra': ['C#', 'ASP .NET']\n",
        "    ,'Shreeva': ['PHP', 'HTML', 'CSS']\n",
        "}\n",
        "\n",
        "print(fav_languages)"
      ],
      "metadata": {
        "id": "7ifauJH4LGtZ"
      },
      "execution_count": null,
      "outputs": []
    },
    {
      "cell_type": "markdown",
      "source": [
        "3. **Dictionary inside a dictionary**\n",
        "\n"
      ],
      "metadata": {
        "id": "Qp0v1N-FasAA"
      }
    },
    {
      "cell_type": "code",
      "source": [
        "# creating dictionary within dictionary\n",
        "Students = {'student_1': {'name': 'Harish', 'age': 27, 'gender': 'Male'},\n",
        "          'student_2': {'name': 'Binod', 'age': 22, 'gender': 'male'},\n",
        "          'student_3': {'name': 'Karina', 'age': 24, 'gender': 'Female'},\n",
        "          'student_4': {'name': 'Lina', 'age': 29, 'gender': 'Male'}}\n",
        "\n",
        "type(Students)"
      ],
      "metadata": {
        "id": "5Evihy7yakFJ"
      },
      "execution_count": null,
      "outputs": []
    },
    {
      "cell_type": "markdown",
      "source": [
        "# Exercises\n",
        "1. Create a dictionary with key value pairs.\n",
        "2. Access keys of the dictionary.\n",
        "3. Use update method to change values in the dictionary.\n",
        "4. Copy dictionary created above to a new dictionary.\n",
        "5. Create a list of three dictionaries.\n",
        "6. Delete one item of the dictionary.\n"
      ],
      "metadata": {
        "id": "2LLqrKfrqc8M"
      }
    },
    {
      "cell_type": "code",
      "source": [
        "person = {\n",
        "    'name': 'John Doe',\n",
        "    'age': 20,\n",
        "    'gender': 'm'\n",
        "}\n",
        "print(person.keys())\n",
        "# # iterating\n",
        "# for i in person.values():\n",
        "#     print(i)\n",
        "\n",
        "for i in ['name', 'age', 'gender']:\n",
        "    print(f'{i}->{person[i]}')\n",
        "\n",
        "# for key, val in person.items():\n",
        "#     print(f\"person[{key}]: {val}\")\n"
      ],
      "metadata": {
        "id": "rEeRUAOibEhF",
        "outputId": "bcec3d47-b674-4ded-d0cf-655f22d180f0",
        "colab": {
          "base_uri": "https://localhost:8080/"
        }
      },
      "execution_count": null,
      "outputs": [
        {
          "output_type": "stream",
          "name": "stdout",
          "text": [
            "dict_keys(['name', 'age', 'gender'])\n",
            "name->John Doe\n",
            "age->20\n",
            "gender->m\n"
          ]
        }
      ]
    },
    {
      "cell_type": "code",
      "source": [
        "price_of_fruits = {\n",
        "    'orange': 100,\n",
        "    'watermelon': 120,\n",
        "    'grapes': 90,\n",
        "    'mango': 230,\n",
        "    'apple': 200\n",
        "}\n",
        "\n",
        "# def func(*args,**kwargs):\n",
        "#     print(args)\n",
        "#     print(kwargs)\n",
        "#     # for k,v in kwargs:\n",
        "#     #     print(k,v)\n",
        "# b=[2,3]\n",
        "# a=1\n",
        "# c=3.6\n",
        "# d='bdjk'\n",
        "# func(b,a,c,d,price_of_fruits,name=\"ram\",k=\"hj\",l=\"fdsa\")\n"
      ],
      "metadata": {
        "id": "XERveSb4UsN4"
      },
      "execution_count": null,
      "outputs": []
    },
    {
      "cell_type": "code",
      "source": [
        "std={\n",
        "    'name':'omit',\n",
        "     'roll':1,\n",
        "     'age':10\n",
        "}\n",
        "\n",
        "def fun(name,age,roll):\n",
        "  print(f'{name}=>{age}=>{roll}')\n",
        "\n",
        "fun(**std)    # ** => unpack the dictionary into keyword arguments."
      ],
      "metadata": {
        "id": "fFxJgyrucouc",
        "outputId": "7cab7729-f738-4d7b-d2ef-54adc22616a6",
        "colab": {
          "base_uri": "https://localhost:8080/"
        }
      },
      "execution_count": null,
      "outputs": [
        {
          "output_type": "stream",
          "name": "stdout",
          "text": [
            "omit=>10=>1\n"
          ]
        }
      ]
    },
    {
      "cell_type": "code",
      "source": [
        "std={\n",
        "    'name':'omit',\n",
        "     'roll':1,\n",
        "     'age':10\n",
        "}\n",
        "n=[1,'a','b',2]\n",
        "k=1\n",
        "l='hello'\n",
        "m=23.982\n",
        "def fun(*args,**kwargs):\n",
        "  print(\"args=>\",args)\n",
        "  print(\"kwargs=>\",kwargs)\n",
        "\n",
        "fun(k,l,m,n,**std)"
      ],
      "metadata": {
        "id": "yiigGD5AdlkF",
        "outputId": "44d9f90c-09fa-4044-a8fe-0fdbe5156376",
        "colab": {
          "base_uri": "https://localhost:8080/"
        }
      },
      "execution_count": null,
      "outputs": [
        {
          "output_type": "stream",
          "name": "stdout",
          "text": [
            "args=> (1, 'hello', 23.982, [1, 'a', 'b', 2])\n",
            "kwargs=> {'name': 'omit', 'roll': 1, 'age': 10}\n"
          ]
        }
      ]
    }
  ]
}